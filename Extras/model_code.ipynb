{
 "cells": [
  {
   "cell_type": "markdown",
   "metadata": {},
   "source": [
    "# Irrelevant from this line forward"
   ]
  },
  {
   "cell_type": "markdown",
   "metadata": {},
   "source": [
    "#### Handling non reported values"
   ]
  },
  {
   "cell_type": "code",
   "execution_count": null,
   "metadata": {},
   "outputs": [
    {
     "data": {
      "text/plain": [
       "AGE\n",
       "0       265\n",
       "1       356\n",
       "2       349\n",
       "3       328\n",
       "4       356\n",
       "       ... \n",
       "102       1\n",
       "103       1\n",
       "105       2\n",
       "998     644\n",
       "999    1057\n",
       "Length: 107, dtype: int64"
      ]
     },
     "metadata": {},
     "output_type": "display_data"
    }
   ],
   "source": [
    "df.groupby('AGE').size()"
   ]
  },
  {
   "cell_type": "markdown",
   "metadata": {},
   "source": [
    "Values of 998/999 mean the age was unreported or unknown. </br>\n",
    "To make it easier on our model, we'll change it with the mean age in the dataset.</br>\n",
    "Maybe we'll consider changing it later on"
   ]
  },
  {
   "cell_type": "code",
   "execution_count": null,
   "metadata": {},
   "outputs": [],
   "source": [
    "def impute_column_with_mask(df, column_name, mask, imputer):\n",
    "    \"\"\"\n",
    "    Impute a specific DataFrame column according to a boolean mask using an imputer object.\n",
    "\n",
    "    Parameters:\n",
    "    df (pd.DataFrame): The DataFrame containing the column to be imputed.\n",
    "    column_name (str): The name of the column to be imputed.\n",
    "    mask (pd.Series or pd.DataFrame): The boolean mask indicating where to impute the value.\n",
    "    imputer (SimpleImputer): The imputer object to perform the imputation.\n",
    "\n",
    "    Returns:\n",
    "    pd.DataFrame: A new DataFrame with the imputed column.\n",
    "    \"\"\"\n",
    "    # Create a copy of the DataFrame to avoid modifying the original\n",
    "    df_copy = df.copy()\n",
    "\n",
    "    # Extract the column values to be imputed\n",
    "    column_values = df_copy.loc[mask, column_name].values.reshape(-1, 1)\n",
    "    \n",
    "    # Fit the imputer on the column values and transform them\n",
    "    imputed_values = imputer.fit_transform(column_values)\n",
    "    \n",
    "    # Replace the original values with the imputed values\n",
    "    df_copy.loc[mask, column_name] = imputed_values\n",
    "    \n",
    "    return df_copy"
   ]
  },
  {
   "cell_type": "code",
   "execution_count": null,
   "metadata": {},
   "outputs": [],
   "source": [
    "# df = impute_column_with_mask(df, 'AGE', df['AGE'] > 990, SimpleImputer(strategy='mean'))"
   ]
  },
  {
   "cell_type": "markdown",
   "metadata": {},
   "source": [
    "##### Handling Gender column"
   ]
  }
 ],
 "metadata": {
  "language_info": {
   "name": "python"
  }
 },
 "nbformat": 4,
 "nbformat_minor": 2
}
