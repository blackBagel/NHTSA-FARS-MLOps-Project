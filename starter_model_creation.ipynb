{
 "cells": [
  {
   "cell_type": "code",
   "execution_count": 22,
   "metadata": {},
   "outputs": [],
   "source": [
    "import pandas as pd\n",
    "import matplotlib.pyplot as plt\n",
    "import seaborn as sns\n",
    "from sklearn.impute import SimpleImputer\n",
    "from sklearn.metrics import recall_score\n",
    "import mlflow"
   ]
  },
  {
   "cell_type": "markdown",
   "metadata": {},
   "source": [
    "##### What will happen to you if you were in a car accident?"
   ]
  },
  {
   "cell_type": "code",
   "execution_count": 2,
   "metadata": {},
   "outputs": [],
   "source": [
    "# import chardet\n",
    "\n",
    "# with open('./data/accident.CSV', 'rb') as filedata:\n",
    "#     result = chardet.detect(filedata.read(10000000))\n",
    "# result"
   ]
  },
  {
   "cell_type": "code",
   "execution_count": 3,
   "metadata": {},
   "outputs": [
    {
     "name": "stderr",
     "output_type": "stream",
     "text": [
      "/tmp/ipykernel_1946/861866498.py:1: DtypeWarning: Columns (15,106,108) have mixed types. Specify dtype option on import or set low_memory=False.\n",
      "  df = pd.read_csv('./data/Person.CSV', encoding='Windows-1252')\n"
     ]
    },
    {
     "data": {
      "text/html": [
       "<div>\n",
       "<style scoped>\n",
       "    .dataframe tbody tr th:only-of-type {\n",
       "        vertical-align: middle;\n",
       "    }\n",
       "\n",
       "    .dataframe tbody tr th {\n",
       "        vertical-align: top;\n",
       "    }\n",
       "\n",
       "    .dataframe thead th {\n",
       "        text-align: right;\n",
       "    }\n",
       "</style>\n",
       "<table border=\"1\" class=\"dataframe\">\n",
       "  <thead>\n",
       "    <tr style=\"text-align: right;\">\n",
       "      <th></th>\n",
       "      <th>STATE</th>\n",
       "      <th>STATENAME</th>\n",
       "      <th>ST_CASE</th>\n",
       "      <th>VE_FORMS</th>\n",
       "      <th>VEH_NO</th>\n",
       "      <th>PER_NO</th>\n",
       "      <th>STR_VEH</th>\n",
       "      <th>COUNTY</th>\n",
       "      <th>DAY</th>\n",
       "      <th>DAYNAME</th>\n",
       "      <th>...</th>\n",
       "      <th>WORK_INJ</th>\n",
       "      <th>WORK_INJNAME</th>\n",
       "      <th>HISPANIC</th>\n",
       "      <th>HISPANICNAME</th>\n",
       "      <th>LOCATION</th>\n",
       "      <th>LOCATIONNAME</th>\n",
       "      <th>HELM_USE</th>\n",
       "      <th>HELM_USENAME</th>\n",
       "      <th>HELM_MIS</th>\n",
       "      <th>HELM_MISNAME</th>\n",
       "    </tr>\n",
       "  </thead>\n",
       "  <tbody>\n",
       "    <tr>\n",
       "      <th>0</th>\n",
       "      <td>1</td>\n",
       "      <td>Alabama</td>\n",
       "      <td>10001</td>\n",
       "      <td>2</td>\n",
       "      <td>1</td>\n",
       "      <td>1</td>\n",
       "      <td>0</td>\n",
       "      <td>81</td>\n",
       "      <td>7</td>\n",
       "      <td>7</td>\n",
       "      <td>...</td>\n",
       "      <td>8</td>\n",
       "      <td>Not Applicable (not a fatality)</td>\n",
       "      <td>0</td>\n",
       "      <td>Not A Fatality (not Applicable)</td>\n",
       "      <td>0</td>\n",
       "      <td>Occupant of a Motor Vehicle</td>\n",
       "      <td>20</td>\n",
       "      <td>Not Applicable</td>\n",
       "      <td>7</td>\n",
       "      <td>None Used/Not Applicable</td>\n",
       "    </tr>\n",
       "    <tr>\n",
       "      <th>1</th>\n",
       "      <td>1</td>\n",
       "      <td>Alabama</td>\n",
       "      <td>10001</td>\n",
       "      <td>2</td>\n",
       "      <td>1</td>\n",
       "      <td>2</td>\n",
       "      <td>0</td>\n",
       "      <td>81</td>\n",
       "      <td>7</td>\n",
       "      <td>7</td>\n",
       "      <td>...</td>\n",
       "      <td>0</td>\n",
       "      <td>No</td>\n",
       "      <td>7</td>\n",
       "      <td>Non-Hispanic</td>\n",
       "      <td>0</td>\n",
       "      <td>Occupant of a Motor Vehicle</td>\n",
       "      <td>20</td>\n",
       "      <td>Not Applicable</td>\n",
       "      <td>7</td>\n",
       "      <td>None Used/Not Applicable</td>\n",
       "    </tr>\n",
       "    <tr>\n",
       "      <th>2</th>\n",
       "      <td>1</td>\n",
       "      <td>Alabama</td>\n",
       "      <td>10001</td>\n",
       "      <td>2</td>\n",
       "      <td>2</td>\n",
       "      <td>1</td>\n",
       "      <td>0</td>\n",
       "      <td>81</td>\n",
       "      <td>7</td>\n",
       "      <td>7</td>\n",
       "      <td>...</td>\n",
       "      <td>8</td>\n",
       "      <td>Not Applicable (not a fatality)</td>\n",
       "      <td>0</td>\n",
       "      <td>Not A Fatality (not Applicable)</td>\n",
       "      <td>0</td>\n",
       "      <td>Occupant of a Motor Vehicle</td>\n",
       "      <td>20</td>\n",
       "      <td>Not Applicable</td>\n",
       "      <td>7</td>\n",
       "      <td>None Used/Not Applicable</td>\n",
       "    </tr>\n",
       "    <tr>\n",
       "      <th>3</th>\n",
       "      <td>1</td>\n",
       "      <td>Alabama</td>\n",
       "      <td>10002</td>\n",
       "      <td>2</td>\n",
       "      <td>1</td>\n",
       "      <td>1</td>\n",
       "      <td>0</td>\n",
       "      <td>55</td>\n",
       "      <td>23</td>\n",
       "      <td>23</td>\n",
       "      <td>...</td>\n",
       "      <td>0</td>\n",
       "      <td>No</td>\n",
       "      <td>7</td>\n",
       "      <td>Non-Hispanic</td>\n",
       "      <td>0</td>\n",
       "      <td>Occupant of a Motor Vehicle</td>\n",
       "      <td>20</td>\n",
       "      <td>Not Applicable</td>\n",
       "      <td>7</td>\n",
       "      <td>None Used/Not Applicable</td>\n",
       "    </tr>\n",
       "    <tr>\n",
       "      <th>4</th>\n",
       "      <td>1</td>\n",
       "      <td>Alabama</td>\n",
       "      <td>10002</td>\n",
       "      <td>2</td>\n",
       "      <td>2</td>\n",
       "      <td>1</td>\n",
       "      <td>0</td>\n",
       "      <td>55</td>\n",
       "      <td>23</td>\n",
       "      <td>23</td>\n",
       "      <td>...</td>\n",
       "      <td>8</td>\n",
       "      <td>Not Applicable (not a fatality)</td>\n",
       "      <td>0</td>\n",
       "      <td>Not A Fatality (not Applicable)</td>\n",
       "      <td>0</td>\n",
       "      <td>Occupant of a Motor Vehicle</td>\n",
       "      <td>20</td>\n",
       "      <td>Not Applicable</td>\n",
       "      <td>7</td>\n",
       "      <td>None Used/Not Applicable</td>\n",
       "    </tr>\n",
       "  </tbody>\n",
       "</table>\n",
       "<p>5 rows × 119 columns</p>\n",
       "</div>"
      ],
      "text/plain": [
       "   STATE STATENAME  ST_CASE  VE_FORMS  VEH_NO  PER_NO  STR_VEH  COUNTY  DAY  \\\n",
       "0      1   Alabama    10001         2       1       1        0      81    7   \n",
       "1      1   Alabama    10001         2       1       2        0      81    7   \n",
       "2      1   Alabama    10001         2       2       1        0      81    7   \n",
       "3      1   Alabama    10002         2       1       1        0      55   23   \n",
       "4      1   Alabama    10002         2       2       1        0      55   23   \n",
       "\n",
       "   DAYNAME  ...  WORK_INJ                     WORK_INJNAME  HISPANIC  \\\n",
       "0        7  ...         8  Not Applicable (not a fatality)         0   \n",
       "1        7  ...         0                               No         7   \n",
       "2        7  ...         8  Not Applicable (not a fatality)         0   \n",
       "3       23  ...         0                               No         7   \n",
       "4       23  ...         8  Not Applicable (not a fatality)         0   \n",
       "\n",
       "                      HISPANICNAME  LOCATION                 LOCATIONNAME  \\\n",
       "0  Not A Fatality (not Applicable)         0  Occupant of a Motor Vehicle   \n",
       "1                     Non-Hispanic         0  Occupant of a Motor Vehicle   \n",
       "2  Not A Fatality (not Applicable)         0  Occupant of a Motor Vehicle   \n",
       "3                     Non-Hispanic         0  Occupant of a Motor Vehicle   \n",
       "4  Not A Fatality (not Applicable)         0  Occupant of a Motor Vehicle   \n",
       "\n",
       "   HELM_USE    HELM_USENAME  HELM_MIS              HELM_MISNAME  \n",
       "0        20  Not Applicable         7  None Used/Not Applicable  \n",
       "1        20  Not Applicable         7  None Used/Not Applicable  \n",
       "2        20  Not Applicable         7  None Used/Not Applicable  \n",
       "3        20  Not Applicable         7  None Used/Not Applicable  \n",
       "4        20  Not Applicable         7  None Used/Not Applicable  \n",
       "\n",
       "[5 rows x 119 columns]"
      ]
     },
     "execution_count": 3,
     "metadata": {},
     "output_type": "execute_result"
    }
   ],
   "source": [
    "df = pd.read_csv('./data/Person.CSV', encoding='Windows-1252')\n",
    "df.head()"
   ]
  },
  {
   "cell_type": "code",
   "execution_count": 4,
   "metadata": {},
   "outputs": [
    {
     "data": {
      "text/plain": [
       "array(['STATE', 'STATENAME', 'ST_CASE', 'VE_FORMS', 'VEH_NO', 'PER_NO',\n",
       "       'STR_VEH', 'COUNTY', 'DAY', 'DAYNAME', 'MONTH', 'MONTHNAME',\n",
       "       'HOUR', 'HOURNAME', 'MINUTE', 'MINUTENAME', 'RUR_URB',\n",
       "       'RUR_URBNAME', 'FUNC_SYS', 'FUNC_SYSNAME', 'HARM_EV',\n",
       "       'HARM_EVNAME', 'MAN_COLL', 'MAN_COLLNAME', 'SCH_BUS',\n",
       "       'SCH_BUSNAME', 'MAKE', 'MAKENAME', 'MAK_MOD', 'BODY_TYP',\n",
       "       'BODY_TYPNAME', 'MOD_YEAR', 'MOD_YEARNAME', 'TOW_VEH',\n",
       "       'TOW_VEHNAME', 'SPEC_USE', 'SPEC_USENAME', 'EMER_USE',\n",
       "       'EMER_USENAME', 'ROLLOVER', 'ROLLOVERNAME', 'IMPACT1',\n",
       "       'IMPACT1NAME', 'FIRE_EXP', 'FIRE_EXPNAME', 'AGE', 'AGENAME', 'SEX',\n",
       "       'SEXNAME', 'PER_TYP', 'PER_TYPNAME', 'INJ_SEV', 'INJ_SEVNAME',\n",
       "       'SEAT_POS', 'SEAT_POSNAME', 'REST_USE', 'REST_USENAME', 'REST_MIS',\n",
       "       'REST_MISNAME', 'AIR_BAG', 'AIR_BAGNAME', 'EJECTION',\n",
       "       'EJECTIONNAME', 'EJ_PATH', 'EJ_PATHNAME', 'EXTRICAT',\n",
       "       'EXTRICATNAME', 'DRINKING', 'DRINKINGNAME', 'ALC_DET',\n",
       "       'ALC_DETNAME', 'ALC_STATUS', 'ALC_STATUSNAME', 'ATST_TYP',\n",
       "       'ATST_TYPNAME', 'ALC_RES', 'ALC_RESNAME', 'DRUGS', 'DRUGSNAME',\n",
       "       'DRUG_DET', 'DRUG_DETNAME', 'DSTATUS', 'DSTATUSNAME', 'HOSPITAL',\n",
       "       'HOSPITALNAME', 'DOA', 'DOANAME', 'DEATH_DA', 'DEATH_DANAME',\n",
       "       'DEATH_MO', 'DEATH_MONAME', 'DEATH_YR', 'DEATH_YRNAME', 'DEATH_HR',\n",
       "       'DEATH_HRNAME', 'DEATH_MN', 'DEATH_MNNAME', 'DEATH_TM',\n",
       "       'DEATH_TMNAME', 'LAG_HRS', 'LAG_HRSNAME', 'LAG_MINS',\n",
       "       'LAG_MINSNAME', 'P_SF1', 'P_SF1NAME', 'P_SF2', 'P_SF2NAME',\n",
       "       'P_SF3', 'P_SF3NAME', 'WORK_INJ', 'WORK_INJNAME', 'HISPANIC',\n",
       "       'HISPANICNAME', 'LOCATION', 'LOCATIONNAME', 'HELM_USE',\n",
       "       'HELM_USENAME', 'HELM_MIS', 'HELM_MISNAME'], dtype=object)"
      ]
     },
     "execution_count": 4,
     "metadata": {},
     "output_type": "execute_result"
    }
   ],
   "source": [
    "df.columns.values"
   ]
  },
  {
   "cell_type": "code",
   "execution_count": 5,
   "metadata": {},
   "outputs": [],
   "source": [
    "MODEL_COLUMNS = [\n",
    "    'ST_CASE', \n",
    "    'STATE',\n",
    "    'STATENAME',\n",
    "    'VEH_NO',\n",
    "    'VE_FORMS',\n",
    "    'PER_NO',\n",
    "    'COUNTY',\n",
    "    'DAY',\n",
    "    'MONTH',\n",
    "    'HOUR',\n",
    "    'AGE',\n",
    "    'SEX',\n",
    "    'INJ_SEV',\n",
    "    'INJ_SEVNAME',\n",
    "    'DOA',\n",
    "    'DOANAME',\n",
    "    'SEAT_POS',\n",
    "    'REST_USE',\n",
    "]\n",
    "TARGET = 'INJ_SEV'"
   ]
  },
  {
   "cell_type": "code",
   "execution_count": 6,
   "metadata": {},
   "outputs": [],
   "source": [
    "# df = original_df"
   ]
  },
  {
   "cell_type": "code",
   "execution_count": 7,
   "metadata": {},
   "outputs": [],
   "source": [
    "original_df = df.copy()\n",
    "df = df[MODEL_COLUMNS]"
   ]
  },
  {
   "cell_type": "markdown",
   "metadata": {},
   "source": [
    "#### Dropping irrelevant injury categories\n",
    "\n",
    "The dataset user manual states these are the possible values for the injury severity field (`INJ_SEV`):\n",
    "\n",
    "- 0 - No Apparent Injury\n",
    "- 1 - Possible Injury\n",
    "- 2 - Suspected Minor Injury\n",
    "- 3 - Suspected Serious Injury\n",
    "- 4 - Fatal Injury \n",
    "- 5 - Injured, Severity Unknown\n",
    "- 6 - Died Prior to Crash\n",
    "- 9 - Unknown/Not Reported \n",
    "\n",
    "Since we want to teach our model to predict a specific injury severity, we'll only use categories 0-4\n",
    "\n",
    "In addition, we'll consider death as another type of injury. </br>\n",
    "The user manual describes the column detailing death (`DOA`) as such:\n",
    "\n",
    "- 0 Not Applicable \n",
    "- 7 Died at Scene\n",
    "- 8 Died En Route (to a hospital)\n",
    "- 9 Unknown\n",
    "\n",
    "Again, we'll ignore cases where death is unknown and focus on categories 0,7 and 8\n",
    "\n",
    "We'll create a new `crash_result` field that will be our prediction target and will be a combination of both of the described fields."
   ]
  },
  {
   "cell_type": "code",
   "execution_count": 8,
   "metadata": {},
   "outputs": [],
   "source": [
    "df = df[(df['INJ_SEV'] <= 4) & (df['DOA'] != 9)]"
   ]
  },
  {
   "cell_type": "markdown",
   "metadata": {},
   "source": [
    "Since we want to combine the injury severity and death outcome results to one field, it's important to see what's the relationship between them"
   ]
  },
  {
   "cell_type": "code",
   "execution_count": 9,
   "metadata": {},
   "outputs": [
    {
     "data": {
      "text/plain": [
       "INJ_SEVNAME\n",
       "Fatal Injury (K)    241\n",
       "dtype: int64"
      ]
     },
     "execution_count": 9,
     "metadata": {},
     "output_type": "execute_result"
    }
   ],
   "source": [
    "df[df['DOA'] >= 8].groupby('INJ_SEVNAME').size()"
   ]
  },
  {
   "cell_type": "markdown",
   "metadata": {},
   "source": [
    "So when a person dies, he will always be tagged as having a fatal injury. </br>\n",
    "Does that imply all fatal injuries are tagged as death?"
   ]
  },
  {
   "cell_type": "code",
   "execution_count": 10,
   "metadata": {},
   "outputs": [
    {
     "data": {
      "text/plain": [
       "DOANAME\n",
       "Died En Route       241\n",
       "Died at Scene     20121\n",
       "Not Applicable    15925\n",
       "dtype: int64"
      ]
     },
     "execution_count": 10,
     "metadata": {},
     "output_type": "execute_result"
    }
   ],
   "source": [
    "df[df['INJ_SEV'] == 4].groupby('DOANAME').size()"
   ]
  },
  {
   "cell_type": "markdown",
   "metadata": {},
   "source": [
    "It doesn't seem to be the case.</br>\n",
    "So we'll tag an accident result as a fatal injury only when the person did not die."
   ]
  },
  {
   "cell_type": "code",
   "execution_count": 11,
   "metadata": {},
   "outputs": [],
   "source": [
    "df['accident_result'] = df['INJ_SEV']\n",
    "df['accident_result_name'] = df['INJ_SEVNAME']\n",
    "\n",
    "df.loc[df['DOA'] > 0, 'accident_result'] = df['DOA']\n",
    "df.loc[df['DOA'] > 0, 'accident_result_name'] = df['DOANAME']\n",
    "\n",
    "df.loc[df['accident_result'] == 4, 'accident_result_name'] = 'Fatal Injury without Death'"
   ]
  },
  {
   "cell_type": "code",
   "execution_count": 12,
   "metadata": {},
   "outputs": [],
   "source": [
    "# Cleaning the accident_result labels\n",
    "df['accident_result_name'] = df['accident_result_name'].str.extract(r'(?P<accident_result_name>[^()]+)')\n",
    "df['accident_result_name'] = df['accident_result_name'].str.strip()"
   ]
  },
  {
   "cell_type": "markdown",
   "metadata": {},
   "source": [
    "#### Dropping the labels\n",
    "We'll drop the name label columns for now, since they're only really useful when we'll want to present our prediction in a user friendly way"
   ]
  },
  {
   "cell_type": "code",
   "execution_count": 13,
   "metadata": {},
   "outputs": [],
   "source": [
    "def create_id_label_dict(df, id_column, label_column):\n",
    "    \"\"\"\n",
    "    Creates a dictionary from a pandas DataFrame with IDs as keys and labels as values.\n",
    "    \n",
    "    Parameters:\n",
    "    df (pd.DataFrame): The input DataFrame containing ID and label columns.\n",
    "    id_column (str): The name of the column containing the IDs.\n",
    "    label_column (str): The name of the column containing the labels.\n",
    "    \n",
    "    Returns:\n",
    "    dict: A dictionary with IDs as keys and labels as values.\n",
    "    \"\"\"\n",
    "    # Drop duplicates to ensure unique ID-label pairs\n",
    "    unique_pairs = df[[id_column, label_column]].drop_duplicates()\n",
    "    \n",
    "    # Convert the unique pairs to a dictionary\n",
    "    id_label_dict = dict(zip(unique_pairs[id_column], unique_pairs[label_column]))\n",
    "    \n",
    "    return id_label_dict"
   ]
  },
  {
   "cell_type": "code",
   "execution_count": 14,
   "metadata": {},
   "outputs": [
    {
     "data": {
      "text/plain": [
       "{3: 'Suspected Serious Injury',\n",
       " 7: 'Died at Scene',\n",
       " 1: 'Possible Injury',\n",
       " 2: 'Suspected Minor Injury',\n",
       " 0: 'No Apparent Injury',\n",
       " 4: 'Fatal Injury without Death',\n",
       " 8: 'Died En Route'}"
      ]
     },
     "execution_count": 14,
     "metadata": {},
     "output_type": "execute_result"
    }
   ],
   "source": [
    "# Keeping a dictionary of the labels to be used only when displaying results to a user\n",
    "ACCIDENT_RESULT_NAMES = create_id_label_dict(df, 'accident_result', 'accident_result_name')\n",
    "ACCIDENT_RESULT_NAMES"
   ]
  },
  {
   "cell_type": "code",
   "execution_count": null,
   "metadata": {},
   "outputs": [],
   "source": [
    "df = df.drop(['INJ_SEV', 'INJ_SEVNAME', 'DOA', 'DOANAME', 'accident_result_name'], axis=1)"
   ]
  },
  {
   "cell_type": "markdown",
   "metadata": {},
   "source": [
    "### Cleaning the data"
   ]
  },
  {
   "cell_type": "code",
   "execution_count": 16,
   "metadata": {},
   "outputs": [
    {
     "name": "stdout",
     "output_type": "stream",
     "text": [
      "<class 'pandas.core.frame.DataFrame'>\n",
      "Index: 81521 entries, 0 to 82842\n",
      "Data columns (total 17 columns):\n",
      " #   Column           Non-Null Count  Dtype \n",
      "---  ------           --------------  ----- \n",
      " 0   ST_CASE          81521 non-null  int64 \n",
      " 1   STATE            81521 non-null  int64 \n",
      " 2   STATENAME        81521 non-null  object\n",
      " 3   VEH_NO           81521 non-null  int64 \n",
      " 4   VE_FORMS         81521 non-null  int64 \n",
      " 5   PER_NO           81521 non-null  int64 \n",
      " 6   COUNTY           81521 non-null  int64 \n",
      " 7   DAY              81521 non-null  int64 \n",
      " 8   MONTH            81521 non-null  int64 \n",
      " 9   HOUR             81521 non-null  int64 \n",
      " 10  AGE              81521 non-null  int64 \n",
      " 11  SEX              81521 non-null  int64 \n",
      " 12  INJ_SEV          81521 non-null  int64 \n",
      " 13  DOA              81521 non-null  int64 \n",
      " 14  SEAT_POS         81521 non-null  int64 \n",
      " 15  REST_USE         81521 non-null  int64 \n",
      " 16  accident_result  81521 non-null  int64 \n",
      "dtypes: int64(16), object(1)\n",
      "memory usage: 13.2+ MB\n"
     ]
    }
   ],
   "source": [
    "df.info(verbose=True)"
   ]
  },
  {
   "cell_type": "code",
   "execution_count": 17,
   "metadata": {},
   "outputs": [
    {
     "data": {
      "text/html": [
       "<div>\n",
       "<style scoped>\n",
       "    .dataframe tbody tr th:only-of-type {\n",
       "        vertical-align: middle;\n",
       "    }\n",
       "\n",
       "    .dataframe tbody tr th {\n",
       "        vertical-align: top;\n",
       "    }\n",
       "\n",
       "    .dataframe thead th {\n",
       "        text-align: right;\n",
       "    }\n",
       "</style>\n",
       "<table border=\"1\" class=\"dataframe\">\n",
       "  <thead>\n",
       "    <tr style=\"text-align: right;\">\n",
       "      <th></th>\n",
       "      <th>ST_CASE</th>\n",
       "      <th>STATE</th>\n",
       "      <th>VEH_NO</th>\n",
       "      <th>VE_FORMS</th>\n",
       "      <th>PER_NO</th>\n",
       "      <th>COUNTY</th>\n",
       "      <th>DAY</th>\n",
       "      <th>MONTH</th>\n",
       "      <th>HOUR</th>\n",
       "      <th>AGE</th>\n",
       "      <th>SEX</th>\n",
       "      <th>INJ_SEV</th>\n",
       "      <th>DOA</th>\n",
       "      <th>SEAT_POS</th>\n",
       "      <th>REST_USE</th>\n",
       "      <th>accident_result</th>\n",
       "    </tr>\n",
       "  </thead>\n",
       "  <tbody>\n",
       "    <tr>\n",
       "      <th>count</th>\n",
       "      <td>81521.000000</td>\n",
       "      <td>81521.000000</td>\n",
       "      <td>81521.000000</td>\n",
       "      <td>81521.000000</td>\n",
       "      <td>81521.000000</td>\n",
       "      <td>81521.000000</td>\n",
       "      <td>81521.000000</td>\n",
       "      <td>81521.000000</td>\n",
       "      <td>81521.000000</td>\n",
       "      <td>81521.000000</td>\n",
       "      <td>81521.000000</td>\n",
       "      <td>81521.000000</td>\n",
       "      <td>81521.000000</td>\n",
       "      <td>81521.000000</td>\n",
       "      <td>81521.000000</td>\n",
       "      <td>81521.000000</td>\n",
       "    </tr>\n",
       "    <tr>\n",
       "      <th>mean</th>\n",
       "      <td>270314.092025</td>\n",
       "      <td>26.953178</td>\n",
       "      <td>1.368850</td>\n",
       "      <td>1.911802</td>\n",
       "      <td>1.514579</td>\n",
       "      <td>92.566688</td>\n",
       "      <td>15.694766</td>\n",
       "      <td>6.709523</td>\n",
       "      <td>13.556397</td>\n",
       "      <td>53.061407</td>\n",
       "      <td>1.407110</td>\n",
       "      <td>2.394181</td>\n",
       "      <td>1.751389</td>\n",
       "      <td>13.000454</td>\n",
       "      <td>23.831148</td>\n",
       "      <td>3.146465</td>\n",
       "    </tr>\n",
       "    <tr>\n",
       "      <th>std</th>\n",
       "      <td>164632.985687</td>\n",
       "      <td>16.475802</td>\n",
       "      <td>1.273783</td>\n",
       "      <td>1.950195</td>\n",
       "      <td>1.379468</td>\n",
       "      <td>96.959194</td>\n",
       "      <td>8.829369</td>\n",
       "      <td>3.373724</td>\n",
       "      <td>8.582249</td>\n",
       "      <td>110.555037</td>\n",
       "      <td>0.859091</td>\n",
       "      <td>1.690066</td>\n",
       "      <td>3.035807</td>\n",
       "      <td>11.211551</td>\n",
       "      <td>34.128658</td>\n",
       "      <td>2.641058</td>\n",
       "    </tr>\n",
       "    <tr>\n",
       "      <th>min</th>\n",
       "      <td>10001.000000</td>\n",
       "      <td>1.000000</td>\n",
       "      <td>0.000000</td>\n",
       "      <td>1.000000</td>\n",
       "      <td>1.000000</td>\n",
       "      <td>0.000000</td>\n",
       "      <td>1.000000</td>\n",
       "      <td>1.000000</td>\n",
       "      <td>0.000000</td>\n",
       "      <td>0.000000</td>\n",
       "      <td>1.000000</td>\n",
       "      <td>0.000000</td>\n",
       "      <td>0.000000</td>\n",
       "      <td>0.000000</td>\n",
       "      <td>1.000000</td>\n",
       "      <td>0.000000</td>\n",
       "    </tr>\n",
       "    <tr>\n",
       "      <th>25%</th>\n",
       "      <td>121609.000000</td>\n",
       "      <td>12.000000</td>\n",
       "      <td>1.000000</td>\n",
       "      <td>1.000000</td>\n",
       "      <td>1.000000</td>\n",
       "      <td>31.000000</td>\n",
       "      <td>8.000000</td>\n",
       "      <td>4.000000</td>\n",
       "      <td>8.000000</td>\n",
       "      <td>24.000000</td>\n",
       "      <td>1.000000</td>\n",
       "      <td>0.000000</td>\n",
       "      <td>0.000000</td>\n",
       "      <td>11.000000</td>\n",
       "      <td>3.000000</td>\n",
       "      <td>0.000000</td>\n",
       "    </tr>\n",
       "    <tr>\n",
       "      <th>50%</th>\n",
       "      <td>260609.000000</td>\n",
       "      <td>26.000000</td>\n",
       "      <td>1.000000</td>\n",
       "      <td>2.000000</td>\n",
       "      <td>1.000000</td>\n",
       "      <td>71.000000</td>\n",
       "      <td>16.000000</td>\n",
       "      <td>7.000000</td>\n",
       "      <td>14.000000</td>\n",
       "      <td>38.000000</td>\n",
       "      <td>1.000000</td>\n",
       "      <td>3.000000</td>\n",
       "      <td>0.000000</td>\n",
       "      <td>11.000000</td>\n",
       "      <td>3.000000</td>\n",
       "      <td>3.000000</td>\n",
       "    </tr>\n",
       "    <tr>\n",
       "      <th>75%</th>\n",
       "      <td>420469.000000</td>\n",
       "      <td>42.000000</td>\n",
       "      <td>2.000000</td>\n",
       "      <td>2.000000</td>\n",
       "      <td>2.000000</td>\n",
       "      <td>115.000000</td>\n",
       "      <td>23.000000</td>\n",
       "      <td>10.000000</td>\n",
       "      <td>19.000000</td>\n",
       "      <td>57.000000</td>\n",
       "      <td>2.000000</td>\n",
       "      <td>4.000000</td>\n",
       "      <td>0.000000</td>\n",
       "      <td>13.000000</td>\n",
       "      <td>20.000000</td>\n",
       "      <td>4.000000</td>\n",
       "    </tr>\n",
       "    <tr>\n",
       "      <th>max</th>\n",
       "      <td>560121.000000</td>\n",
       "      <td>56.000000</td>\n",
       "      <td>58.000000</td>\n",
       "      <td>59.000000</td>\n",
       "      <td>57.000000</td>\n",
       "      <td>997.000000</td>\n",
       "      <td>31.000000</td>\n",
       "      <td>12.000000</td>\n",
       "      <td>99.000000</td>\n",
       "      <td>999.000000</td>\n",
       "      <td>9.000000</td>\n",
       "      <td>4.000000</td>\n",
       "      <td>8.000000</td>\n",
       "      <td>99.000000</td>\n",
       "      <td>99.000000</td>\n",
       "      <td>8.000000</td>\n",
       "    </tr>\n",
       "  </tbody>\n",
       "</table>\n",
       "</div>"
      ],
      "text/plain": [
       "             ST_CASE         STATE        VEH_NO      VE_FORMS        PER_NO  \\\n",
       "count   81521.000000  81521.000000  81521.000000  81521.000000  81521.000000   \n",
       "mean   270314.092025     26.953178      1.368850      1.911802      1.514579   \n",
       "std    164632.985687     16.475802      1.273783      1.950195      1.379468   \n",
       "min     10001.000000      1.000000      0.000000      1.000000      1.000000   \n",
       "25%    121609.000000     12.000000      1.000000      1.000000      1.000000   \n",
       "50%    260609.000000     26.000000      1.000000      2.000000      1.000000   \n",
       "75%    420469.000000     42.000000      2.000000      2.000000      2.000000   \n",
       "max    560121.000000     56.000000     58.000000     59.000000     57.000000   \n",
       "\n",
       "             COUNTY           DAY         MONTH          HOUR           AGE  \\\n",
       "count  81521.000000  81521.000000  81521.000000  81521.000000  81521.000000   \n",
       "mean      92.566688     15.694766      6.709523     13.556397     53.061407   \n",
       "std       96.959194      8.829369      3.373724      8.582249    110.555037   \n",
       "min        0.000000      1.000000      1.000000      0.000000      0.000000   \n",
       "25%       31.000000      8.000000      4.000000      8.000000     24.000000   \n",
       "50%       71.000000     16.000000      7.000000     14.000000     38.000000   \n",
       "75%      115.000000     23.000000     10.000000     19.000000     57.000000   \n",
       "max      997.000000     31.000000     12.000000     99.000000    999.000000   \n",
       "\n",
       "                SEX       INJ_SEV           DOA      SEAT_POS      REST_USE  \\\n",
       "count  81521.000000  81521.000000  81521.000000  81521.000000  81521.000000   \n",
       "mean       1.407110      2.394181      1.751389     13.000454     23.831148   \n",
       "std        0.859091      1.690066      3.035807     11.211551     34.128658   \n",
       "min        1.000000      0.000000      0.000000      0.000000      1.000000   \n",
       "25%        1.000000      0.000000      0.000000     11.000000      3.000000   \n",
       "50%        1.000000      3.000000      0.000000     11.000000      3.000000   \n",
       "75%        2.000000      4.000000      0.000000     13.000000     20.000000   \n",
       "max        9.000000      4.000000      8.000000     99.000000     99.000000   \n",
       "\n",
       "       accident_result  \n",
       "count     81521.000000  \n",
       "mean          3.146465  \n",
       "std           2.641058  \n",
       "min           0.000000  \n",
       "25%           0.000000  \n",
       "50%           3.000000  \n",
       "75%           4.000000  \n",
       "max           8.000000  "
      ]
     },
     "execution_count": 17,
     "metadata": {},
     "output_type": "execute_result"
    }
   ],
   "source": [
    "df.describe()"
   ]
  },
  {
   "cell_type": "code",
   "execution_count": 18,
   "metadata": {},
   "outputs": [
    {
     "data": {
      "text/plain": [
       "(1711, 17)"
      ]
     },
     "execution_count": 18,
     "metadata": {},
     "output_type": "execute_result"
    }
   ],
   "source": [
    "df[df['VEH_NO'] > 3].shape"
   ]
  },
  {
   "cell_type": "code",
   "execution_count": 19,
   "metadata": {},
   "outputs": [
    {
     "data": {
      "text/plain": [
       "(4547, 17)"
      ]
     },
     "execution_count": 19,
     "metadata": {},
     "output_type": "execute_result"
    }
   ],
   "source": [
    "df[df['VE_FORMS'] > 3].shape"
   ]
  },
  {
   "cell_type": "code",
   "execution_count": 20,
   "metadata": {},
   "outputs": [
    {
     "name": "stdout",
     "output_type": "stream",
     "text": [
      "Percent of cases with outlier number of cars: 5.58%\n"
     ]
    }
   ],
   "source": [
    "percent = len(df[df['VE_FORMS'] > 3]) / len(df) * 100\n",
    "print(f'Percent of cases with outlier number of cars: {percent:0.2f}%')"
   ]
  },
  {
   "cell_type": "markdown",
   "metadata": {},
   "source": [
    "# WIP\n",
    "# Should be changed to a different cat value of > 3"
   ]
  },
  {
   "cell_type": "code",
   "execution_count": 21,
   "metadata": {},
   "outputs": [],
   "source": [
    "df = df[df['VE_FORMS'] <= 3]"
   ]
  },
  {
   "cell_type": "code",
   "execution_count": 31,
   "metadata": {},
   "outputs": [],
   "source": [
    "df = df.drop(['STATENAME'], axis=1)"
   ]
  },
  {
   "cell_type": "markdown",
   "metadata": {},
   "source": [
    "### Running models\n",
    "For starters we'll try to create models that learn on the data as is.</br>\n",
    "This makes sense because not having specific information about a person in a motor accident could be valuable information by itself in predicting the person's injury"
   ]
  },
  {
   "cell_type": "markdown",
   "metadata": {},
   "source": [
    "### Thinking about evaluation"
   ]
  },
  {
   "cell_type": "markdown",
   "metadata": {},
   "source": [
    "The evaluation metric we'll use for our model will be a weighted average of recall per class.\n",
    "\n",
    "The more severe an injury gets, the more important it is to decrease the amount of False Negative predictions of it, since the price of an error becomes more severe. \n",
    "Therefore, it makes sense to calculate the recall score of each injury class separately and then calculate an overall weighted average that gives higher importance to more severe injuries.\n",
    "\n",
    "For the sake of this exercise, we'll focus for now only on this metric as the only maximising metric and not take into account other satisfising factors like the predition speed of our model"
   ]
  },
  {
   "cell_type": "code",
   "execution_count": 27,
   "metadata": {},
   "outputs": [],
   "source": [
    "# Seperating the target column\n",
    "train_target = df['accident_result']\n",
    "df = df.drop(['accident_result'], axis=1)"
   ]
  },
  {
   "cell_type": "markdown",
   "metadata": {},
   "source": [
    "#### Trying out some simple models"
   ]
  },
  {
   "cell_type": "code",
   "execution_count": 25,
   "metadata": {},
   "outputs": [],
   "source": [
    "mlflow.set_tracking_uri(\"http://127.0.0.1:5000\")"
   ]
  },
  {
   "cell_type": "code",
   "execution_count": 26,
   "metadata": {},
   "outputs": [
    {
     "name": "stderr",
     "output_type": "stream",
     "text": [
      "2024/07/21 09:52:36 INFO mlflow.tracking.fluent: Experiment with name 'NHTSA FARS Injury prediction' does not exist. Creating a new experiment.\n"
     ]
    },
    {
     "data": {
      "text/plain": [
       "<Experiment: artifact_location='gs://mlops_zoomcamp-mlflow-artifacts/artifacts/1', creation_time=1721555556438, experiment_id='1', last_update_time=1721555556438, lifecycle_stage='active', name='NHTSA FARS Injury prediction', tags={}>"
      ]
     },
     "execution_count": 26,
     "metadata": {},
     "output_type": "execute_result"
    }
   ],
   "source": [
    "mlflow.set_experiment(\"NHTSA FARS Injury prediction\")"
   ]
  },
  {
   "cell_type": "code",
   "execution_count": null,
   "metadata": {},
   "outputs": [],
   "source": [
    "with mlflow.start_run():\n",
    "\n",
    "    params = {\"C\": 0.1, \"random_state\": 42}\n",
    "    mlflow.log_params(params)\n",
    "\n",
    "    lr = LogisticRegression(**params).fit(X, y)\n",
    "    y_pred = lr.predict(X)\n",
    "    mlflow.log_metric(\"accuracy\", accuracy_score(y, y_pred))\n",
    "\n",
    "    mlflow.sklearn.log_model(lr, artifact_path=\"models\")"
   ]
  }
 ],
 "metadata": {
  "kernelspec": {
   "display_name": "NHTSA-FARS-MLOps-Project-r_D6DKIt",
   "language": "python",
   "name": "python3"
  },
  "language_info": {
   "codemirror_mode": {
    "name": "ipython",
    "version": 3
   },
   "file_extension": ".py",
   "mimetype": "text/x-python",
   "name": "python",
   "nbconvert_exporter": "python",
   "pygments_lexer": "ipython3",
   "version": "3.11.9"
  }
 },
 "nbformat": 4,
 "nbformat_minor": 2
}
